{
 "cells": [
  {
   "cell_type": "markdown",
   "metadata": {},
   "source": [
    "# Intro\n",
    "\n",
    "In this notebook, I try to make some random predictions."
   ]
  },
  {
   "cell_type": "code",
   "execution_count": 43,
   "metadata": {},
   "outputs": [],
   "source": [
    "from os.path import join as join_paths\n",
    "from typing import Any\n",
    "\n",
    "from numpy import ndarray\n",
    "from pandas import read_csv, DataFrame, concat\n",
    "from sklearn.dummy import DummyClassifier\n",
    "\n",
    "from calculateEvaluationCCC import ccc"
   ]
  },
  {
   "cell_type": "code",
   "execution_count": 16,
   "metadata": {},
   "outputs": [],
   "source": [
    "\n",
    "default_path: str = \"/Users/leonardoalchieri/Datasets/OMGEmotionChallenge\"\n",
    "validation_data = read_csv(join_paths(default_path, \"omg_ValidationVideos.csv\"))\n",
    "# the x is not necessary: instead of using some random values, I will take the \"start\" column\n",
    "x: ndarray = validation_data.loc[:, \"start\"].values\n",
    "y_valence: ndarray = validation_data.loc[:, \"valence\"].values\n",
    "y_arousal: ndarray = validation_data.loc[:, \"arousal\"].values\n"
   ]
  },
  {
   "cell_type": "code",
   "execution_count": 46,
   "metadata": {},
   "outputs": [
    {
     "name": "stderr",
     "output_type": "stream",
     "text": [
      "/Users/leonardoalchieri/miniconda3/envs/torch_latest/lib/python3.10/site-packages/scipy/stats/_stats_py.py:4424: ConstantInputWarning: An input array is constant; the correlation coefficient is not defined.\n",
      "  warnings.warn(stats.ConstantInputWarning(msg))\n",
      "/Users/leonardoalchieri/miniconda3/envs/torch_latest/lib/python3.10/site-packages/scipy/stats/_stats_py.py:4424: ConstantInputWarning: An input array is constant; the correlation coefficient is not defined.\n",
      "  warnings.warn(stats.ConstantInputWarning(msg))\n",
      "/Users/leonardoalchieri/miniconda3/envs/torch_latest/lib/python3.10/site-packages/scipy/stats/_stats_py.py:4424: ConstantInputWarning: An input array is constant; the correlation coefficient is not defined.\n",
      "  warnings.warn(stats.ConstantInputWarning(msg))\n",
      "/Users/leonardoalchieri/miniconda3/envs/torch_latest/lib/python3.10/site-packages/scipy/stats/_stats_py.py:4424: ConstantInputWarning: An input array is constant; the correlation coefficient is not defined.\n",
      "  warnings.warn(stats.ConstantInputWarning(msg))\n",
      "/Users/leonardoalchieri/miniconda3/envs/torch_latest/lib/python3.10/site-packages/scipy/stats/_stats_py.py:4424: ConstantInputWarning: An input array is constant; the correlation coefficient is not defined.\n",
      "  warnings.warn(stats.ConstantInputWarning(msg))\n",
      "/Users/leonardoalchieri/miniconda3/envs/torch_latest/lib/python3.10/site-packages/scipy/stats/_stats_py.py:4424: ConstantInputWarning: An input array is constant; the correlation coefficient is not defined.\n",
      "  warnings.warn(stats.ConstantInputWarning(msg))\n",
      "/Users/leonardoalchieri/miniconda3/envs/torch_latest/lib/python3.10/site-packages/scipy/stats/_stats_py.py:4424: ConstantInputWarning: An input array is constant; the correlation coefficient is not defined.\n",
      "  warnings.warn(stats.ConstantInputWarning(msg))\n",
      "/Users/leonardoalchieri/miniconda3/envs/torch_latest/lib/python3.10/site-packages/scipy/stats/_stats_py.py:4424: ConstantInputWarning: An input array is constant; the correlation coefficient is not defined.\n",
      "  warnings.warn(stats.ConstantInputWarning(msg))\n",
      "/Users/leonardoalchieri/miniconda3/envs/torch_latest/lib/python3.10/site-packages/scipy/stats/_stats_py.py:4424: ConstantInputWarning: An input array is constant; the correlation coefficient is not defined.\n",
      "  warnings.warn(stats.ConstantInputWarning(msg))\n",
      "/Users/leonardoalchieri/miniconda3/envs/torch_latest/lib/python3.10/site-packages/scipy/stats/_stats_py.py:4424: ConstantInputWarning: An input array is constant; the correlation coefficient is not defined.\n",
      "  warnings.warn(stats.ConstantInputWarning(msg))\n",
      "/Users/leonardoalchieri/miniconda3/envs/torch_latest/lib/python3.10/site-packages/scipy/stats/_stats_py.py:4424: ConstantInputWarning: An input array is constant; the correlation coefficient is not defined.\n",
      "  warnings.warn(stats.ConstantInputWarning(msg))\n",
      "/Users/leonardoalchieri/miniconda3/envs/torch_latest/lib/python3.10/site-packages/scipy/stats/_stats_py.py:4424: ConstantInputWarning: An input array is constant; the correlation coefficient is not defined.\n",
      "  warnings.warn(stats.ConstantInputWarning(msg))\n",
      "/Users/leonardoalchieri/miniconda3/envs/torch_latest/lib/python3.10/site-packages/scipy/stats/_stats_py.py:4424: ConstantInputWarning: An input array is constant; the correlation coefficient is not defined.\n",
      "  warnings.warn(stats.ConstantInputWarning(msg))\n"
     ]
    }
   ],
   "source": [
    "seeds: list[int] = [23, 43, 23, 45, 305353, 1998, 232423, 234540294, 2029004, 1, 2, 3, 1234]\n",
    "cccs: list[DataFrame] = list() \n",
    "for seed in seeds:\n",
    "    ccc_valences: dict[str, float] = dict()\n",
    "    ccc_arousals: dict[str, float] = dict()\n",
    "    strategies: list[str] = [\"stratified\", \"most_frequent\", \"constant\", \"uniform\", \"prior\"]\n",
    "    strategies_args: dict[str, dict[str, Any]] = {'constant': {'constant': 0}}\n",
    "    for strategy in strategies:\n",
    "        classifier_valence = DummyClassifier(strategy=strategy, \n",
    "                                            random_state=seed, \n",
    "                                            **strategies_args.get(strategy, dict()))\n",
    "        classifier_arousal = DummyClassifier(strategy=strategy, \n",
    "                                            random_state=seed, \n",
    "                                            **strategies_args.get(strategy, dict()))\n",
    "        \n",
    "        classifier_valence.fit(X=x, y=y_valence)\n",
    "        classifier_arousal.fit(X=x, y=y_arousal)\n",
    "        \n",
    "        predictions_valence: ndarray = classifier_valence.predict(x)\n",
    "        # print(f\"{predictions_valence=}\")\n",
    "        predictions_arousal: ndarray = classifier_arousal.predict(x)\n",
    "        # print(f\"{predictions_arousal=}\")\n",
    "        \n",
    "        ccc_valence, rho_valence = ccc(y_true=y_valence, \n",
    "                                    y_pred=predictions_valence)\n",
    "        ccc_arousal, rho_arousal = ccc(y_true=y_arousal, \n",
    "                                    y_pred=predictions_arousal)\n",
    "        \n",
    "        ccc_valences[strategy] = ccc_valence\n",
    "        ccc_arousals[strategy] = ccc_arousal\n",
    "    cccs.append(DataFrame([ccc_valences, ccc_arousals], index=['valence', 'arousal']))"
   ]
  },
  {
   "cell_type": "code",
   "execution_count": 47,
   "metadata": {},
   "outputs": [
    {
     "data": {
      "text/html": [
       "<div>\n",
       "<style scoped>\n",
       "    .dataframe tbody tr th:only-of-type {\n",
       "        vertical-align: middle;\n",
       "    }\n",
       "\n",
       "    .dataframe tbody tr th {\n",
       "        vertical-align: top;\n",
       "    }\n",
       "\n",
       "    .dataframe thead th {\n",
       "        text-align: right;\n",
       "    }\n",
       "</style>\n",
       "<table border=\"1\" class=\"dataframe\">\n",
       "  <thead>\n",
       "    <tr style=\"text-align: right;\">\n",
       "      <th></th>\n",
       "      <th>stratified</th>\n",
       "      <th>most_frequent</th>\n",
       "      <th>constant</th>\n",
       "      <th>uniform</th>\n",
       "      <th>prior</th>\n",
       "    </tr>\n",
       "  </thead>\n",
       "  <tbody>\n",
       "    <tr>\n",
       "      <th>arousal</th>\n",
       "      <td>0.027090</td>\n",
       "      <td>NaN</td>\n",
       "      <td>NaN</td>\n",
       "      <td>0.027584</td>\n",
       "      <td>NaN</td>\n",
       "    </tr>\n",
       "    <tr>\n",
       "      <th>valence</th>\n",
       "      <td>-0.010433</td>\n",
       "      <td>NaN</td>\n",
       "      <td>NaN</td>\n",
       "      <td>0.002714</td>\n",
       "      <td>NaN</td>\n",
       "    </tr>\n",
       "  </tbody>\n",
       "</table>\n",
       "</div>"
      ],
      "text/plain": [
       "         stratified  most_frequent  constant   uniform  prior\n",
       "arousal    0.027090            NaN       NaN  0.027584    NaN\n",
       "valence   -0.010433            NaN       NaN  0.002714    NaN"
      ]
     },
     "metadata": {},
     "output_type": "display_data"
    }
   ],
   "source": [
    "display(concat(cccs, keys=strategies, axis=0).groupby(axis=0, level=1).mean())"
   ]
  }
 ],
 "metadata": {
  "kernelspec": {
   "display_name": "Python 3.10.6 ('torch_latest')",
   "language": "python",
   "name": "python3"
  },
  "language_info": {
   "codemirror_mode": {
    "name": "ipython",
    "version": 3
   },
   "file_extension": ".py",
   "mimetype": "text/x-python",
   "name": "python",
   "nbconvert_exporter": "python",
   "pygments_lexer": "ipython3",
   "version": "3.10.6"
  },
  "orig_nbformat": 4,
  "vscode": {
   "interpreter": {
    "hash": "fcbe6412c233032cd4d98c2bce6ac3e1dc35813c70919b7ccf65f269cc451245"
   }
  }
 },
 "nbformat": 4,
 "nbformat_minor": 2
}
